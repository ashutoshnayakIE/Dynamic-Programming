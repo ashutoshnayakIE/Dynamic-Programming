{
 "cells": [
  {
   "cell_type": "markdown",
   "metadata": {},
   "source": [
    "<h1><center>Dynamic Programming in Python</center></h1>"
   ]
  },
  {
   "cell_type": "markdown",
   "metadata": {},
   "source": [
    "This is a short introduction to dynamic programming, going over the main concept. We also include a coding example to help through a working example of dynamic programming through code. The material has been taken from the textbook on Dynamic programming and optimal control by Bertsekas. \n",
    "\n",
    "The concept of dynamic programming is given by the following statement: <b>Life can only be understood by going backwards but it must be lived going forward</b> (By Kierkegaard). This is the core concept of DP as we start solving the problem backwards: assuming whats the best solution at the end and move our ways back to get the best decisions that could lead to the best solution at the end of the horizon. However, since the decisions have to be made in real time, we use learnings by working our way backwards and use that information to make decision in the present."
   ]
  },
  {
   "cell_type": "markdown",
   "metadata": {},
   "source": [
    "Most of the systems are stochastic -- involves uncertainty over the time for which the problem is to be solved (horizon). The decisions can be made at the start of the horizon for the rest of the period. This is called open loop system as the decisions are not changed based on most recent information. In closed loop systems, even if the problem is solved for t=0 to t=T, if we are at time t=t, we can solve the problem to t=t to t=T by using the information gained from the time steps t = 0 to t= t-1."
   ]
  },
  {
   "cell_type": "markdown",
   "metadata": {},
   "source": [
    "<h2>Bellman's optimality condition</h2>"
   ]
  },
  {
   "cell_type": "markdown",
   "metadata": {},
   "source": [
    "Solution for dynamic programming is based on the central idea of subproblem optimization -- if we know the optimal solution for the complete problem, any sub problem (starting from any t = t to t = T), will have the exact optimal solution. This is further explained in the Figure below. \n",
    "\n",
    "It can be understood by the following idea -- <b>Suppose the fastest route from LA to Boston passes through Chicago. In that case, if we want to find the fastest route from Chicago to Boston, the fastest route for this problem should exactly be same as the part of the fastest route from LA to Boston.</b>\n",
    "\n",
    "<img src=\"Bellman.png\" alt=\"Bellman's optimality\" style=\"width:900px;height:600px;\">"
   ]
  },
  {
   "cell_type": "markdown",
   "metadata": {},
   "source": [
    "What Bellman optimality condition means is that we can start optimizing from the tail of the problem and move backwards to solve the problem (similar to the life statement). Since the tail solution will be exactly the same as the part of the complete solution, Bellman's optimality condition is maintained."
   ]
  },
  {
   "cell_type": "markdown",
   "metadata": {},
   "source": [
    "The algorithm starts from the end and works backwards to find the minimum cost paths (from $x_0$ to $X_N$). The algorithm cost to go, which is a sum of cost of action $u_k$ and cost to go from $k+1$ onwards. Thus, for every state, we maintain a best future path of states from there on (and also store the value of cost to go). And as we go backwards, we keep on adding the storing the best path forward possible. \n",
    "\n",
    "Dynamic programming is computationally efficient than brute force (with a guarantee of optimal solution). Suppose there are 4 possible states, as we stand on time t = k, we just need to check the cost to go for 4 states (in t = k+1). In Brute force, we would need to check all possible paths from t = k to t = N (so the number of checks to do would be $4^{N-k}$. Although, in DP, we need to store the value of cost to go, but memory could be much cheaper than the computational time, particularly for problems with large cardinality of states."
   ]
  },
  {
   "cell_type": "markdown",
   "metadata": {},
   "source": [
    "<h2>Example by Hand</h2>\n",
    "\n",
    "This example is motivated from the example in the Book by Bertsekas. In a machine shop, we have to process 4 jobs (A,B,C and D). All the possible routes that can be taken are given below. Also the diagram shows the possible flows along with the cost of the flow (in terms of set-up time and processing time of each operation). The objective is to find the optimal schedule so as to minimize the total time it takes to finish all the three operations (A,C , B or D). Also, B cannot be performed after C or D cannot be performed after A. Note that all possible sequences are not allowed. For example, we cannot process B or D ahead of A and C (these are sequential manufacturing processes -- thus they have precedence relation e.g. paint cannot be applied until welding has been complete).\n",
    "\n",
    "Idea is same as shown in The Figure above. Start with the last state (third state) and find the cost  to go (which is just scheduling the last operation -- note there are 3 operations). When moving to the second state, calculate the cost of moving to next possible state and also add the cost to go of that state. Keep moving backwards (considering feasible options only -- for example if best future schedule is CA, then when we move to sequence of three, ACA option is not feasible as operation A is already scheduled before).\n",
    "\n",
    "\n",
    "<img src=\"Example.png\" alt=\"Hand example\" style=\"width:600px;height:800px;\">"
   ]
  },
  {
   "cell_type": "markdown",
   "metadata": {},
   "source": [
    "<h2>Coding: Knapsack problem</h2>\n",
    "\n",
    "Knapsack problem is an optimization problem. It is uniques optimization problem as the number of constraint equation is just 1 but the number of decision variables are more than 1. An example is : If we have a long strip of width 1 cm, and we have to cut boxes of different size (width 1 cam), how should we cut boxes such that there is minimum wastage in the strip. This problem is used in real life in steel mills with long steel rolls. If the steel roll is 6m, we would like to cut two strips of 3m as compared to one 2 strips of length 2m and 3m (where there is a wastage of 1m). The mathematical formulation is given as:\n",
    "\n",
    "maximize $\\sum_{j=1}^{J}v_jx_j$   where $v_j$ is the height (value) of the element $j$, $x_j$ is the decision variable (0/1) <br>\n",
    "where $\\sum_{j=1}^{J}h_jx_j <= H$ constraint on the problem where $h_j$ is the height of the element. Example has been taken from <a href=\"https://www.askpython.com/python/examples/knapsack-problem-dynamic-programming\">here</a>."
   ]
  },
  {
   "cell_type": "code",
   "execution_count": 8,
   "metadata": {},
   "outputs": [
    {
     "data": {
      "text/plain": [
       "(5, 65)"
      ]
     },
     "execution_count": 8,
     "metadata": {},
     "output_type": "execute_result"
    }
   ],
   "source": [
    "options = np.array(([8,50],[16,100],[32,150],[40,200]))   # columns 1 gives the height and column 2 gives value\n",
    "H       = 64\n",
    "\n",
    "# we create a 2D table with n+1 rows (states) and H+1 columns\n",
    "# table[i,j] is the optimum solution for H = j and items upto i\n",
    "table   = np.zeros((options.shape[0]+1,H+1))\n",
    "table.shape"
   ]
  },
  {
   "cell_type": "code",
   "execution_count": 26,
   "metadata": {},
   "outputs": [],
   "source": [
    "# iterating over all i and all j\n",
    "for i in range(1,options.shape[0]+1):\n",
    "    for j in range(1,H+1):\n",
    "        \n",
    "        # checking if permissible\n",
    "        # it removes one at a time and checks if i is a good replacement or addition\n",
    "        if options[i-1,0] <= j: \n",
    "            table[i,j] = max(table[i-1,j], options[i-1,1]+ table[i-1][j-options[i-1,0]])\n",
    "        else:\n",
    "            table[i,j] = table[i-1,j]\n",
    "\n",
    "            \n",
    "# note that we did not start with the end but we started from the beginning because we start filling in the elements from start.\n",
    "# it can also be looked on as we start from the end (in reverse direction)\n",
    "\n",
    "# we can keep track of the best sequences in a tabular format (just as we store table values) to get the best combination"
   ]
  },
  {
   "cell_type": "code",
   "execution_count": null,
   "metadata": {},
   "outputs": [],
   "source": []
  }
 ],
 "metadata": {
  "hide_input": false,
  "kernelspec": {
   "display_name": "Python 3",
   "language": "python",
   "name": "python3"
  },
  "language_info": {
   "codemirror_mode": {
    "name": "ipython",
    "version": 3
   },
   "file_extension": ".py",
   "mimetype": "text/x-python",
   "name": "python",
   "nbconvert_exporter": "python",
   "pygments_lexer": "ipython3",
   "version": "3.7.3"
  },
  "toc": {
   "base_numbering": 1,
   "nav_menu": {},
   "number_sections": true,
   "sideBar": true,
   "skip_h1_title": true,
   "title_cell": "Table of Contents",
   "title_sidebar": "Contents",
   "toc_cell": false,
   "toc_position": {},
   "toc_section_display": true,
   "toc_window_display": true
  },
  "varInspector": {
   "cols": {
    "lenName": 16,
    "lenType": 16,
    "lenVar": 40
   },
   "kernels_config": {
    "python": {
     "delete_cmd_postfix": "",
     "delete_cmd_prefix": "del ",
     "library": "var_list.py",
     "varRefreshCmd": "print(var_dic_list())"
    },
    "r": {
     "delete_cmd_postfix": ") ",
     "delete_cmd_prefix": "rm(",
     "library": "var_list.r",
     "varRefreshCmd": "cat(var_dic_list()) "
    }
   },
   "types_to_exclude": [
    "module",
    "function",
    "builtin_function_or_method",
    "instance",
    "_Feature"
   ],
   "window_display": false
  }
 },
 "nbformat": 4,
 "nbformat_minor": 2
}
